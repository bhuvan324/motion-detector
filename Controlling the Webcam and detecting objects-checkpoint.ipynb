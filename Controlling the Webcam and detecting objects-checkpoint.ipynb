{
 "cells": [
  {
   "cell_type": "markdown",
   "id": "5e59e1ca",
   "metadata": {},
   "source": [
    "#                                          Motion Detector"
   ]
  },
  {
   "cell_type": "code",
   "execution_count": 28,
   "id": "47b9e96c",
   "metadata": {},
   "outputs": [],
   "source": [
    "import cv2,time,pandas\n",
    "from datetime import datetime"
   ]
  },
  {
   "cell_type": "code",
   "execution_count": 30,
   "id": "d8d8e773",
   "metadata": {},
   "outputs": [
    {
     "name": "stdout",
     "output_type": "stream",
     "text": [
      "[datetime.datetime(2022, 6, 19, 12, 39, 1, 189749), datetime.datetime(2022, 6, 19, 12, 39, 2, 315646), datetime.datetime(2022, 6, 19, 12, 39, 3, 946728), datetime.datetime(2022, 6, 19, 12, 39, 5, 340865), datetime.datetime(2022, 6, 19, 12, 39, 6, 684486), datetime.datetime(2022, 6, 19, 12, 39, 8, 76545), datetime.datetime(2022, 6, 19, 12, 39, 9, 388573), datetime.datetime(2022, 6, 19, 12, 39, 10, 851707)]\n"
     ]
    }
   ],
   "source": [
    "first_frame = None\n",
    "status_list = [None,None]\n",
    "times = []\n",
    "df = pandas.DataFrame(columns=[\"Start\",\"End\"])\n",
    "\n",
    "video = cv2.VideoCapture(0)\n",
    "\n",
    "while True:\n",
    "    check,frame = video.read()\n",
    "    status = 0\n",
    "    \n",
    "    gray = cv2.cvtColor(frame,cv2.COLOR_BGR2GRAY)\n",
    "    gray = cv2.GaussianBlur(gray,(21,21),0)\n",
    "    \n",
    "    if first_frame is None:\n",
    "        first_frame = gray\n",
    "        continue\n",
    "      \n",
    "    delta_frame = cv2.absdiff(first_frame,gray)\n",
    "    thresh_frame = cv2.threshold(delta_frame,30,255,cv2.THRESH_BINARY)[1]\n",
    "    thresh_frame = cv2.dilate(thresh_frame,None,iterations=2)\n",
    "    \n",
    "    (cnts,_) = cv2.findContours(thresh_frame.copy(),cv2.RETR_EXTERNAL,cv2.CHAIN_APPROX_SIMPLE)\n",
    "    \n",
    "    for contour in cnts:\n",
    "        if cv2.contourArea(contour) < 10000:\n",
    "            continue\n",
    "        status = 1\n",
    "        (x,y,w,h) = cv2.boundingRect(contour)\n",
    "        cv2.rectangle(frame,(x,y),(x+w,y+h),(0,255,0),3)\n",
    "        \n",
    "    status_list.append(status)\n",
    "    #status_list = status_list[-2:]\n",
    "    \n",
    "    if status_list[-1]==1 and status_list[-2]==0:\n",
    "        times.append(datetime.now())\n",
    "    if status_list[-1]==0 and status_list[-2]==1:\n",
    "        times.append(datetime.now())\n",
    "    \n",
    "    cv2.imshow(\"Gray Frame\",gray)\n",
    "    cv2.imshow(\"Delta Frame\",delta_frame)\n",
    "    cv2.imshow(\"Threshold Frame\",thresh_frame)\n",
    "    cv2.imshow(\"Color Frame\",frame)\n",
    "    \n",
    "    key = cv2.waitKey(1)\n",
    "    \n",
    "    if key==ord('q'):\n",
    "        if status==1:\n",
    "            times.append(datetime.now())\n",
    "        break   \n",
    "        \n",
    "#print(status_list)\n",
    "print(times)\n",
    "\n",
    "for i in range(0,len(times),2):\n",
    "    df = df.append({\"Start\": times[i],\"End\":times[i+1]},ignore_index=True)\n",
    "\n",
    "df.to_csv('times.csv')\n",
    "video.release()\n",
    "cv2.destroyAllWindows()"
   ]
  },
  {
   "cell_type": "code",
   "execution_count": 63,
   "id": "d08c1ad8",
   "metadata": {},
   "outputs": [],
   "source": [
    "from bokeh.plotting import figure,show,output_file\n",
    "from bokeh.models import HoverTool,ColumnDataSource\n",
    "from bokeh.io import curdoc\n",
    "\n",
    "df[\"Start_string\"] = df[\"Start\"].dt.strftime(\"%Y-%m-%d %H:%M:%S\")\n",
    "df[\"End_string\"] = df[\"End\"].dt.strftime(\"%Y-%m-%d %H:%M:%S\")\n",
    "\n",
    "cds = ColumnDataSource(df)\n",
    "\n",
    "p = figure(x_axis_type=\"datetime\",height=150,width=500,title=\"Motion Graph\")\n",
    "#p.ygrid.ticker.desired_num_ticks = 1\n",
    "p.yaxis.minor_tick_line_color = None\n",
    "\n",
    "hover = HoverTool(tooltips=[(\"Start\",\"@Start_string\"),(\"End\",\"@End_string\")])\n",
    "p.add_tools(hover)\n",
    "\n",
    "q = p.quad(left=\"Start\",right=\"End\",bottom=0,top=1,color=\"green\",source=cds)\n",
    "\n",
    "output_file(\"Graph.html\")\n",
    "curdoc().theme = 'caliber'\n",
    "show(p)"
   ]
  },
  {
   "cell_type": "code",
   "execution_count": null,
   "id": "b1768d8d",
   "metadata": {},
   "outputs": [],
   "source": []
  },
  {
   "cell_type": "code",
   "execution_count": null,
   "id": "6b80b72d",
   "metadata": {},
   "outputs": [],
   "source": []
  }
 ],
 "metadata": {
  "kernelspec": {
   "display_name": "Python 3",
   "language": "python",
   "name": "python3"
  },
  "language_info": {
   "codemirror_mode": {
    "name": "ipython",
    "version": 3
   },
   "file_extension": ".py",
   "mimetype": "text/x-python",
   "name": "python",
   "nbconvert_exporter": "python",
   "pygments_lexer": "ipython3",
   "version": "3.8.8"
  }
 },
 "nbformat": 4,
 "nbformat_minor": 5
}
